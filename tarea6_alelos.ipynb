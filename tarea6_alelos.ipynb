impor
import Alelos
fr = [Alelos.creacion_alelos(x, 0.60) for x in range(0, 100)]
nuevas = [alelos.reproduce_population(i) for i in fr]
nuevas2 = [alelos.compute_frequencies(u) for u in nuevas]
nuevas2
---------------------------------------------------------------------------
AttributeError                            Traceback (most recent call last)
Input In [7], in <cell line: 1>()
----> 1 fr = [Alelos.creacion_alelos(x, 0.60) for x in range(0, 100)]
      2 nuevas = [alelos.reproduce_population(i) for i in fr]
      3 nuevas2 = [alelos.compute_frequencies(u) for u in nuevas]

Input In [7], in <listcomp>(.0)
----> 1 fr = [Alelos.creacion_alelos(x, 0.60) for x in range(0, 100)]
      2 nuevas = [alelos.reproduce_population(i) for i in fr]
      3 nuevas2 = [alelos.compute_frequencies(u) for u in nuevas]

AttributeError: module 'Alelos' has no attribute 'creacion_alelos'

:c ya no salio 
